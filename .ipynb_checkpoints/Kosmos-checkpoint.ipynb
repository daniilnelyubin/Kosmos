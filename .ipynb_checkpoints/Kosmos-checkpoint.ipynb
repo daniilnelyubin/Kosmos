{
 "cells": [
  {
   "cell_type": "code",
   "execution_count": 1,
   "metadata": {},
   "outputs": [],
   "source": [
    "import numpy as np\n",
    "import pandas as pd\n",
    "import matplotlib.pyplot as plt\n",
    "import seaborn as sns\n",
    "import datetime\n",
    "from sklearn.model_selection import train_test_split\n",
    "from sklearn.ensemble import RandomForestClassifier\n",
    "from sklearn.metrics import roc_auc_score,f1_score,confusion_matrix,precision_recall_curve"
   ]
  },
  {
   "cell_type": "code",
   "execution_count": 2,
   "metadata": {},
   "outputs": [],
   "source": [
    "def date_parser_func(date):\n",
    "    return datetime.datetime.strptime(date, \"%Y-%m-%d %H:%M:%S\")"
   ]
  },
  {
   "cell_type": "code",
   "execution_count": 3,
   "metadata": {},
   "outputs": [],
   "source": [
    "df_game_result = pd.read_csv(\"game_results.csv\",parse_dates=[\"timestamp\"],date_parser=date_parser_func)\n",
    "df_users = pd.read_csv(\"users.csv\",parse_dates=[\"create_time\"],date_parser=date_parser_func)\n",
    "df_predictions = pd.read_csv(\"predictions.csv\")"
   ]
  },
  {
   "cell_type": "code",
   "execution_count": 4,
   "metadata": {},
   "outputs": [
    {
     "data": {
      "text/plain": [
       "(812733, 9)"
      ]
     },
     "execution_count": 4,
     "metadata": {},
     "output_type": "execute_result"
    }
   ],
   "source": [
    "df_game_result.shape"
   ]
  },
  {
   "cell_type": "code",
   "execution_count": 5,
   "metadata": {},
   "outputs": [
    {
     "data": {
      "text/html": [
       "<div>\n",
       "<style scoped>\n",
       "    .dataframe tbody tr th:only-of-type {\n",
       "        vertical-align: middle;\n",
       "    }\n",
       "\n",
       "    .dataframe tbody tr th {\n",
       "        vertical-align: top;\n",
       "    }\n",
       "\n",
       "    .dataframe thead th {\n",
       "        text-align: right;\n",
       "    }\n",
       "</style>\n",
       "<table border=\"1\" class=\"dataframe\">\n",
       "  <thead>\n",
       "    <tr style=\"text-align: right;\">\n",
       "      <th></th>\n",
       "      <th>id</th>\n",
       "      <th>user_id</th>\n",
       "      <th>timestamp</th>\n",
       "      <th>winner</th>\n",
       "      <th>length</th>\n",
       "      <th>magic_used</th>\n",
       "      <th>player_cards</th>\n",
       "      <th>round</th>\n",
       "      <th>type</th>\n",
       "    </tr>\n",
       "  </thead>\n",
       "  <tbody>\n",
       "    <tr>\n",
       "      <th>0</th>\n",
       "      <td>218714</td>\n",
       "      <td>218490</td>\n",
       "      <td>2019-11-10 01:14:52</td>\n",
       "      <td>1</td>\n",
       "      <td>375</td>\n",
       "      <td>7</td>\n",
       "      <td>52</td>\n",
       "      <td>1</td>\n",
       "      <td>1</td>\n",
       "    </tr>\n",
       "    <tr>\n",
       "      <th>1</th>\n",
       "      <td>219061</td>\n",
       "      <td>218490</td>\n",
       "      <td>2019-11-10 01:23:06</td>\n",
       "      <td>1</td>\n",
       "      <td>475</td>\n",
       "      <td>3</td>\n",
       "      <td>41</td>\n",
       "      <td>2</td>\n",
       "      <td>1</td>\n",
       "    </tr>\n",
       "    <tr>\n",
       "      <th>2</th>\n",
       "      <td>219430</td>\n",
       "      <td>218490</td>\n",
       "      <td>2019-11-10 01:31:24</td>\n",
       "      <td>1</td>\n",
       "      <td>476</td>\n",
       "      <td>0</td>\n",
       "      <td>13</td>\n",
       "      <td>3</td>\n",
       "      <td>1</td>\n",
       "    </tr>\n",
       "    <tr>\n",
       "      <th>3</th>\n",
       "      <td>219689</td>\n",
       "      <td>218490</td>\n",
       "      <td>2019-11-10 01:38:43</td>\n",
       "      <td>1</td>\n",
       "      <td>329</td>\n",
       "      <td>2</td>\n",
       "      <td>52</td>\n",
       "      <td>1</td>\n",
       "      <td>1</td>\n",
       "    </tr>\n",
       "    <tr>\n",
       "      <th>4</th>\n",
       "      <td>219859</td>\n",
       "      <td>218492</td>\n",
       "      <td>2019-11-10 01:42:48</td>\n",
       "      <td>1</td>\n",
       "      <td>297</td>\n",
       "      <td>2</td>\n",
       "      <td>52</td>\n",
       "      <td>1</td>\n",
       "      <td>1</td>\n",
       "    </tr>\n",
       "  </tbody>\n",
       "</table>\n",
       "</div>"
      ],
      "text/plain": [
       "       id  user_id           timestamp  winner  length  magic_used  \\\n",
       "0  218714   218490 2019-11-10 01:14:52       1     375           7   \n",
       "1  219061   218490 2019-11-10 01:23:06       1     475           3   \n",
       "2  219430   218490 2019-11-10 01:31:24       1     476           0   \n",
       "3  219689   218490 2019-11-10 01:38:43       1     329           2   \n",
       "4  219859   218492 2019-11-10 01:42:48       1     297           2   \n",
       "\n",
       "   player_cards  round  type  \n",
       "0            52      1     1  \n",
       "1            41      2     1  \n",
       "2            13      3     1  \n",
       "3            52      1     1  \n",
       "4            52      1     1  "
      ]
     },
     "execution_count": 5,
     "metadata": {},
     "output_type": "execute_result"
    }
   ],
   "source": [
    "df_game_result.head()"
   ]
  },
  {
   "cell_type": "code",
   "execution_count": 6,
   "metadata": {},
   "outputs": [
    {
     "data": {
      "text/html": [
       "<div>\n",
       "<style scoped>\n",
       "    .dataframe tbody tr th:only-of-type {\n",
       "        vertical-align: middle;\n",
       "    }\n",
       "\n",
       "    .dataframe tbody tr th {\n",
       "        vertical-align: top;\n",
       "    }\n",
       "\n",
       "    .dataframe thead th {\n",
       "        text-align: right;\n",
       "    }\n",
       "</style>\n",
       "<table border=\"1\" class=\"dataframe\">\n",
       "  <thead>\n",
       "    <tr style=\"text-align: right;\">\n",
       "      <th></th>\n",
       "      <th>id</th>\n",
       "      <th>create_time</th>\n",
       "    </tr>\n",
       "  </thead>\n",
       "  <tbody>\n",
       "    <tr>\n",
       "      <th>0</th>\n",
       "      <td>218490</td>\n",
       "      <td>2019-11-10 00:57:10</td>\n",
       "    </tr>\n",
       "    <tr>\n",
       "      <th>1</th>\n",
       "      <td>218492</td>\n",
       "      <td>2019-11-10 01:32:13</td>\n",
       "    </tr>\n",
       "    <tr>\n",
       "      <th>2</th>\n",
       "      <td>218493</td>\n",
       "      <td>2019-11-10 01:43:16</td>\n",
       "    </tr>\n",
       "    <tr>\n",
       "      <th>3</th>\n",
       "      <td>218499</td>\n",
       "      <td>2019-11-10 03:26:18</td>\n",
       "    </tr>\n",
       "    <tr>\n",
       "      <th>4</th>\n",
       "      <td>218507</td>\n",
       "      <td>2019-11-10 07:02:37</td>\n",
       "    </tr>\n",
       "  </tbody>\n",
       "</table>\n",
       "</div>"
      ],
      "text/plain": [
       "       id         create_time\n",
       "0  218490 2019-11-10 00:57:10\n",
       "1  218492 2019-11-10 01:32:13\n",
       "2  218493 2019-11-10 01:43:16\n",
       "3  218499 2019-11-10 03:26:18\n",
       "4  218507 2019-11-10 07:02:37"
      ]
     },
     "execution_count": 6,
     "metadata": {},
     "output_type": "execute_result"
    }
   ],
   "source": [
    "df_users.head()"
   ]
  },
  {
   "cell_type": "code",
   "execution_count": 7,
   "metadata": {},
   "outputs": [
    {
     "data": {
      "text/plain": [
       "id                       int64\n",
       "user_id                  int64\n",
       "timestamp       datetime64[ns]\n",
       "winner                   int64\n",
       "length                   int64\n",
       "magic_used               int64\n",
       "player_cards             int64\n",
       "round                    int64\n",
       "type                     int64\n",
       "dtype: object"
      ]
     },
     "execution_count": 7,
     "metadata": {},
     "output_type": "execute_result"
    }
   ],
   "source": [
    "df_game_result.dtypes"
   ]
  },
  {
   "cell_type": "code",
   "execution_count": 8,
   "metadata": {},
   "outputs": [
    {
     "data": {
      "text/plain": [
       "id                      int64\n",
       "create_time    datetime64[ns]\n",
       "dtype: object"
      ]
     },
     "execution_count": 8,
     "metadata": {},
     "output_type": "execute_result"
    }
   ],
   "source": [
    "df_users.dtypes"
   ]
  },
  {
   "cell_type": "markdown",
   "metadata": {},
   "source": [
    "Дата считалась правильно\n",
    "\n",
    "Проверим данные на наличие пропущенных значений"
   ]
  },
  {
   "cell_type": "code",
   "execution_count": 9,
   "metadata": {},
   "outputs": [
    {
     "data": {
      "text/plain": [
       "id              0\n",
       "user_id         0\n",
       "timestamp       0\n",
       "winner          0\n",
       "length          0\n",
       "magic_used      0\n",
       "player_cards    0\n",
       "round           0\n",
       "type            0\n",
       "dtype: int64"
      ]
     },
     "execution_count": 9,
     "metadata": {},
     "output_type": "execute_result"
    }
   ],
   "source": [
    "df_game_result.isna().sum()"
   ]
  },
  {
   "cell_type": "code",
   "execution_count": 10,
   "metadata": {},
   "outputs": [
    {
     "data": {
      "text/plain": [
       "id             0\n",
       "create_time    0\n",
       "dtype: int64"
      ]
     },
     "execution_count": 10,
     "metadata": {},
     "output_type": "execute_result"
    }
   ],
   "source": [
    "df_users.isna().sum()"
   ]
  },
  {
   "cell_type": "markdown",
   "metadata": {},
   "source": [
    "Пропущенных значений нет"
   ]
  },
  {
   "cell_type": "markdown",
   "metadata": {},
   "source": [
    "Соединим 2 набора данных"
   ]
  },
  {
   "cell_type": "code",
   "execution_count": 11,
   "metadata": {},
   "outputs": [],
   "source": [
    "df_users.rename(columns={\"id\":\"user_id\"},inplace=True)"
   ]
  },
  {
   "cell_type": "code",
   "execution_count": 12,
   "metadata": {},
   "outputs": [],
   "source": [
    "result_df = df_game_result.join(df_users.set_index(\"user_id\"),on=\"user_id\")"
   ]
  },
  {
   "cell_type": "markdown",
   "metadata": {},
   "source": [
    "Как мне кажется, наиболее оптимальной будет модель использующая деревья, так как она обладает наибольшей интерпретируемостью, поэтому все сгенеренные данные не нужно будет масштабировать. Данный пункт было бы разумнее описать в части про обучение модели, но мне кажется здесь тоже уместно."
   ]
  },
  {
   "cell_type": "markdown",
   "metadata": {},
   "source": [
    "Создадим новый столбец данных: разницу между временем регистрации и временем игры в секундах"
   ]
  },
  {
   "cell_type": "code",
   "execution_count": 13,
   "metadata": {},
   "outputs": [],
   "source": [
    "result_df['diff'] = (result_df.timestamp-result_df.create_time)"
   ]
  },
  {
   "cell_type": "code",
   "execution_count": 14,
   "metadata": {},
   "outputs": [],
   "source": [
    "result_df['diff'] = result_df['diff'].apply(lambda x: x.seconds)"
   ]
  },
  {
   "cell_type": "markdown",
   "metadata": {},
   "source": [
    "Посмотрим сколько игр сыграл каждый игрок"
   ]
  },
  {
   "cell_type": "code",
   "execution_count": 15,
   "metadata": {},
   "outputs": [
    {
     "data": {
      "text/plain": [
       "Text(0.5, 1.0, 'Плотность распределения количества игр')"
      ]
     },
     "execution_count": 15,
     "metadata": {},
     "output_type": "execute_result"
    },
    {
     "data": {
      "image/png": "[encoded data removed]",
      "text/plain": [
       "<Figure size 432x288 with 1 Axes>"
      ]
     },
     "metadata": {
      "needs_background": "light"
     },
     "output_type": "display_data"
    }
   ],
   "source": [
    "ax = sns.distplot(result_df.user_id.value_counts())\n",
    "plt.xlabel(\"Количество игр\")\n",
    "plt.title(\"Плотность распределения количества игр\")"
   ]
  },
  {
   "cell_type": "markdown",
   "metadata": {},
   "source": [
    "Как видно из графика расперделения большинство игроков играют меньше 1000 игр, найдем это число. Найдем моду распределения."
   ]
  },
  {
   "cell_type": "code",
   "execution_count": 16,
   "metadata": {},
   "outputs": [
    {
     "data": {
      "text/plain": [
       "0    3\n",
       "dtype: int64"
      ]
     },
     "execution_count": 16,
     "metadata": {},
     "output_type": "execute_result"
    }
   ],
   "source": [
    "result_df.user_id.value_counts().mode()"
   ]
  },
  {
   "cell_type": "markdown",
   "metadata": {},
   "source": [
    "Большинство игроков играют 3 игры."
   ]
  },
  {
   "cell_type": "markdown",
   "metadata": {},
   "source": [
    "Рассмотрим эти данные детальнее"
   ]
  },
  {
   "cell_type": "code",
   "execution_count": 17,
   "metadata": {},
   "outputs": [
    {
     "data": {
      "text/plain": [
       "count    5289.000000\n",
       "mean      153.664776\n",
       "std       388.296857\n",
       "min         1.000000\n",
       "25%         3.000000\n",
       "50%        12.000000\n",
       "75%        95.000000\n",
       "max      6479.000000\n",
       "Name: user_id, dtype: float64"
      ]
     },
     "execution_count": 17,
     "metadata": {},
     "output_type": "execute_result"
    }
   ],
   "source": [
    "result_df.user_id.value_counts().describe()"
   ]
  },
  {
   "cell_type": "markdown",
   "metadata": {},
   "source": [
    "75 процентов игроков сыграли 95 или менее игр"
   ]
  },
  {
   "cell_type": "code",
   "execution_count": 19,
   "metadata": {},
   "outputs": [
    {
     "data": {
      "text/html": [
       "<div>\n",
       "<style scoped>\n",
       "    .dataframe tbody tr th:only-of-type {\n",
       "        vertical-align: middle;\n",
       "    }\n",
       "\n",
       "    .dataframe tbody tr th {\n",
       "        vertical-align: top;\n",
       "    }\n",
       "\n",
       "    .dataframe thead th {\n",
       "        text-align: right;\n",
       "    }\n",
       "</style>\n",
       "<table border=\"1\" class=\"dataframe\">\n",
       "  <thead>\n",
       "    <tr style=\"text-align: right;\">\n",
       "      <th></th>\n",
       "      <th>id</th>\n",
       "      <th>user_id</th>\n",
       "      <th>timestamp</th>\n",
       "      <th>winner</th>\n",
       "      <th>length</th>\n",
       "      <th>magic_used</th>\n",
       "      <th>player_cards</th>\n",
       "      <th>round</th>\n",
       "      <th>type</th>\n",
       "      <th>create_time</th>\n",
       "      <th>diff</th>\n",
       "      <th>count_of_games</th>\n",
       "    </tr>\n",
       "  </thead>\n",
       "  <tbody>\n",
       "    <tr>\n",
       "      <th>0</th>\n",
       "      <td>218714</td>\n",
       "      <td>218490</td>\n",
       "      <td>2019-11-10 01:14:52</td>\n",
       "      <td>1</td>\n",
       "      <td>375</td>\n",
       "      <td>7</td>\n",
       "      <td>52</td>\n",
       "      <td>1</td>\n",
       "      <td>1</td>\n",
       "      <td>2019-11-10 00:57:10</td>\n",
       "      <td>1062.0</td>\n",
       "      <td>0</td>\n",
       "    </tr>\n",
       "    <tr>\n",
       "      <th>1</th>\n",
       "      <td>219061</td>\n",
       "      <td>218490</td>\n",
       "      <td>2019-11-10 01:23:06</td>\n",
       "      <td>1</td>\n",
       "      <td>475</td>\n",
       "      <td>3</td>\n",
       "      <td>41</td>\n",
       "      <td>2</td>\n",
       "      <td>1</td>\n",
       "      <td>2019-11-10 00:57:10</td>\n",
       "      <td>1556.0</td>\n",
       "      <td>0</td>\n",
       "    </tr>\n",
       "    <tr>\n",
       "      <th>2</th>\n",
       "      <td>219430</td>\n",
       "      <td>218490</td>\n",
       "      <td>2019-11-10 01:31:24</td>\n",
       "      <td>1</td>\n",
       "      <td>476</td>\n",
       "      <td>0</td>\n",
       "      <td>13</td>\n",
       "      <td>3</td>\n",
       "      <td>1</td>\n",
       "      <td>2019-11-10 00:57:10</td>\n",
       "      <td>2054.0</td>\n",
       "      <td>0</td>\n",
       "    </tr>\n",
       "    <tr>\n",
       "      <th>3</th>\n",
       "      <td>219689</td>\n",
       "      <td>218490</td>\n",
       "      <td>2019-11-10 01:38:43</td>\n",
       "      <td>1</td>\n",
       "      <td>329</td>\n",
       "      <td>2</td>\n",
       "      <td>52</td>\n",
       "      <td>1</td>\n",
       "      <td>1</td>\n",
       "      <td>2019-11-10 00:57:10</td>\n",
       "      <td>2493.0</td>\n",
       "      <td>0</td>\n",
       "    </tr>\n",
       "    <tr>\n",
       "      <th>4</th>\n",
       "      <td>219859</td>\n",
       "      <td>218492</td>\n",
       "      <td>2019-11-10 01:42:48</td>\n",
       "      <td>1</td>\n",
       "      <td>297</td>\n",
       "      <td>2</td>\n",
       "      <td>52</td>\n",
       "      <td>1</td>\n",
       "      <td>1</td>\n",
       "      <td>2019-11-10 01:32:13</td>\n",
       "      <td>635.0</td>\n",
       "      <td>0</td>\n",
       "    </tr>\n",
       "    <tr>\n",
       "      <th>...</th>\n",
       "      <td>...</td>\n",
       "      <td>...</td>\n",
       "      <td>...</td>\n",
       "      <td>...</td>\n",
       "      <td>...</td>\n",
       "      <td>...</td>\n",
       "      <td>...</td>\n",
       "      <td>...</td>\n",
       "      <td>...</td>\n",
       "      <td>...</td>\n",
       "      <td>...</td>\n",
       "      <td>...</td>\n",
       "    </tr>\n",
       "    <tr>\n",
       "      <th>812728</th>\n",
       "      <td>19207349</td>\n",
       "      <td>234692</td>\n",
       "      <td>2020-05-09 11:35:10</td>\n",
       "      <td>0</td>\n",
       "      <td>254</td>\n",
       "      <td>0</td>\n",
       "      <td>9</td>\n",
       "      <td>1</td>\n",
       "      <td>1</td>\n",
       "      <td>2020-04-09 12:50:51</td>\n",
       "      <td>81859.0</td>\n",
       "      <td>0</td>\n",
       "    </tr>\n",
       "    <tr>\n",
       "      <th>812729</th>\n",
       "      <td>19208623</td>\n",
       "      <td>234692</td>\n",
       "      <td>2020-05-09 11:50:55</td>\n",
       "      <td>0</td>\n",
       "      <td>45</td>\n",
       "      <td>0</td>\n",
       "      <td>0</td>\n",
       "      <td>1</td>\n",
       "      <td>1</td>\n",
       "      <td>2020-04-09 12:50:51</td>\n",
       "      <td>82804.0</td>\n",
       "      <td>0</td>\n",
       "    </tr>\n",
       "    <tr>\n",
       "      <th>812730</th>\n",
       "      <td>19212265</td>\n",
       "      <td>234692</td>\n",
       "      <td>2020-05-09 12:32:59</td>\n",
       "      <td>1</td>\n",
       "      <td>701</td>\n",
       "      <td>0</td>\n",
       "      <td>16</td>\n",
       "      <td>1</td>\n",
       "      <td>1</td>\n",
       "      <td>2020-04-09 12:50:51</td>\n",
       "      <td>85328.0</td>\n",
       "      <td>0</td>\n",
       "    </tr>\n",
       "    <tr>\n",
       "      <th>812731</th>\n",
       "      <td>19212509</td>\n",
       "      <td>234692</td>\n",
       "      <td>2020-05-09 12:36:07</td>\n",
       "      <td>1</td>\n",
       "      <td>156</td>\n",
       "      <td>0</td>\n",
       "      <td>52</td>\n",
       "      <td>2</td>\n",
       "      <td>1</td>\n",
       "      <td>2020-04-09 12:50:51</td>\n",
       "      <td>85516.0</td>\n",
       "      <td>0</td>\n",
       "    </tr>\n",
       "    <tr>\n",
       "      <th>812732</th>\n",
       "      <td>19212820</td>\n",
       "      <td>234692</td>\n",
       "      <td>2020-05-09 12:39:57</td>\n",
       "      <td>1</td>\n",
       "      <td>199</td>\n",
       "      <td>0</td>\n",
       "      <td>52</td>\n",
       "      <td>3</td>\n",
       "      <td>1</td>\n",
       "      <td>2020-04-09 12:50:51</td>\n",
       "      <td>85746.0</td>\n",
       "      <td>0</td>\n",
       "    </tr>\n",
       "  </tbody>\n",
       "</table>\n",
       "<p>812733 rows × 12 columns</p>\n",
       "</div>"
      ],
      "text/plain": [
       "              id  user_id           timestamp  winner  length  magic_used  \\\n",
       "0         218714   218490 2019-11-10 01:14:52       1     375           7   \n",
       "1         219061   218490 2019-11-10 01:23:06       1     475           3   \n",
       "2         219430   218490 2019-11-10 01:31:24       1     476           0   \n",
       "3         219689   218490 2019-11-10 01:38:43       1     329           2   \n",
       "4         219859   218492 2019-11-10 01:42:48       1     297           2   \n",
       "...          ...      ...                 ...     ...     ...         ...   \n",
       "812728  19207349   234692 2020-05-09 11:35:10       0     254           0   \n",
       "812729  19208623   234692 2020-05-09 11:50:55       0      45           0   \n",
       "812730  19212265   234692 2020-05-09 12:32:59       1     701           0   \n",
       "812731  19212509   234692 2020-05-09 12:36:07       1     156           0   \n",
       "812732  19212820   234692 2020-05-09 12:39:57       1     199           0   \n",
       "\n",
       "        player_cards  round  type         create_time     diff  count_of_games  \n",
       "0                 52      1     1 2019-11-10 00:57:10   1062.0               0  \n",
       "1                 41      2     1 2019-11-10 00:57:10   1556.0               0  \n",
       "2                 13      3     1 2019-11-10 00:57:10   2054.0               0  \n",
       "3                 52      1     1 2019-11-10 00:57:10   2493.0               0  \n",
       "4                 52      1     1 2019-11-10 01:32:13    635.0               0  \n",
       "...              ...    ...   ...                 ...      ...             ...  \n",
       "812728             9      1     1 2020-04-09 12:50:51  81859.0               0  \n",
       "812729             0      1     1 2020-04-09 12:50:51  82804.0               0  \n",
       "812730            16      1     1 2020-04-09 12:50:51  85328.0               0  \n",
       "812731            52      2     1 2020-04-09 12:50:51  85516.0               0  \n",
       "812732            52      3     1 2020-04-09 12:50:51  85746.0               0  \n",
       "\n",
       "[812733 rows x 12 columns]"
      ]
     },
     "execution_count": 19,
     "metadata": {},
     "output_type": "execute_result"
    }
   ],
   "source": [
    "result_df['count_of_games']=0"
   ]
  },
  {
   "cell_type": "markdown",
   "metadata": {},
   "source": [
    "Функция для подсчета сыграных игр"
   ]
  },
  {
   "cell_type": "code",
   "execution_count": 22,
   "metadata": {},
   "outputs": [],
   "source": [
    "def count_of_games(pd_arr):\n",
    "    prev_index = -1\n",
    "    for index in range(len(pd_arr)):\n",
    "        if pd_arr.iloc[index]['user_id'] == pd_arr.iloc[prev_index]['user_id']:\n",
    "            pd_arr.iloc[index,pd_arr.columns.get_loc('count_of_games')] = pd_arr.iloc[prev_index]['count_of_games']+1\n",
    "        prev_index = index\n",
    "        if index%100000==0:\n",
    "            print(index)\n",
    "     "
   ]
  },
  {
   "cell_type": "markdown",
   "metadata": {},
   "source": [
    "Отсортируем всех игроков по user_id и времени игры, для того, чтобы правильно посчитать количетсво сыграных игр на текущий момент"
   ]
  },
  {
   "cell_type": "code",
   "execution_count": 23,
   "metadata": {},
   "outputs": [],
   "source": [
    "result_df.sort_values(['user_id','timestamp'],inplace=True)"
   ]
  },
  {
   "cell_type": "markdown",
   "metadata": {},
   "source": [
    "СЛЕДУЮЩАЯ ЧАСТЬ ООЧЕНЬ ДОЛГО СЧИТАЕТСЯ"
   ]
  },
  {
   "cell_type": "code",
   "execution_count": null,
   "metadata": {},
   "outputs": [],
   "source": [
    "count_of_games(result_df)"
   ]
  },
  {
   "cell_type": "code",
   "execution_count": 27,
   "metadata": {},
   "outputs": [],
   "source": [
    "result_df.drop(['timestamp'],axis=1,inplace=True)"
   ]
  },
  {
   "cell_type": "markdown",
   "metadata": {},
   "source": [
    "Вычислим день недели, возможно по выходным люди чаще становятся космонавтами"
   ]
  },
  {
   "cell_type": "code",
   "execution_count": 21,
   "metadata": {},
   "outputs": [],
   "source": [
    "result_df = pd.read_csv(\"user_features.csv\")\n",
    "result_df['create_time'] = pd.to_datetime(result_df['create_time'], format=\"%Y-%m-%d %H:%M:%S\")"
   ]
  },
  {
   "cell_type": "code",
   "execution_count": null,
   "metadata": {},
   "outputs": [],
   "source": []
  },
  {
   "cell_type": "code",
   "execution_count": 24,
   "metadata": {},
   "outputs": [],
   "source": [
    "result_df['weekend'] = 0"
   ]
  },
  {
   "cell_type": "code",
   "execution_count": 25,
   "metadata": {},
   "outputs": [],
   "source": [
    "def find_weekend(line):\n",
    "    if (line['create_time'].weekday()>4):\n",
    "        return 1\n",
    "    else:\n",
    "        return 0"
   ]
  },
  {
   "cell_type": "code",
   "execution_count": 26,
   "metadata": {},
   "outputs": [],
   "source": [
    "result_df.weekend = result_df.apply(find_weekend,axis=1)"
   ]
  },
  {
   "cell_type": "code",
   "execution_count": 27,
   "metadata": {},
   "outputs": [
    {
     "data": {
      "text/html": [
       "<div>\n",
       "<style scoped>\n",
       "    .dataframe tbody tr th:only-of-type {\n",
       "        vertical-align: middle;\n",
       "    }\n",
       "\n",
       "    .dataframe tbody tr th {\n",
       "        vertical-align: top;\n",
       "    }\n",
       "\n",
       "    .dataframe thead th {\n",
       "        text-align: right;\n",
       "    }\n",
       "</style>\n",
       "<table border=\"1\" class=\"dataframe\">\n",
       "  <thead>\n",
       "    <tr style=\"text-align: right;\">\n",
       "      <th></th>\n",
       "      <th>id</th>\n",
       "      <th>user_id</th>\n",
       "      <th>winner</th>\n",
       "      <th>length</th>\n",
       "      <th>magic_used</th>\n",
       "      <th>player_cards</th>\n",
       "      <th>round</th>\n",
       "      <th>type</th>\n",
       "      <th>create_time</th>\n",
       "      <th>diff</th>\n",
       "      <th>count_of_games</th>\n",
       "      <th>weekend</th>\n",
       "    </tr>\n",
       "  </thead>\n",
       "  <tbody>\n",
       "    <tr>\n",
       "      <th>0</th>\n",
       "      <td>218714</td>\n",
       "      <td>218490</td>\n",
       "      <td>1</td>\n",
       "      <td>375</td>\n",
       "      <td>7</td>\n",
       "      <td>52</td>\n",
       "      <td>1</td>\n",
       "      <td>1</td>\n",
       "      <td>2019-11-10 00:57:10</td>\n",
       "      <td>1062.0</td>\n",
       "      <td>0</td>\n",
       "      <td>1</td>\n",
       "    </tr>\n",
       "    <tr>\n",
       "      <th>1</th>\n",
       "      <td>219061</td>\n",
       "      <td>218490</td>\n",
       "      <td>1</td>\n",
       "      <td>475</td>\n",
       "      <td>3</td>\n",
       "      <td>41</td>\n",
       "      <td>2</td>\n",
       "      <td>1</td>\n",
       "      <td>2019-11-10 00:57:10</td>\n",
       "      <td>1556.0</td>\n",
       "      <td>1</td>\n",
       "      <td>1</td>\n",
       "    </tr>\n",
       "    <tr>\n",
       "      <th>2</th>\n",
       "      <td>219430</td>\n",
       "      <td>218490</td>\n",
       "      <td>1</td>\n",
       "      <td>476</td>\n",
       "      <td>0</td>\n",
       "      <td>13</td>\n",
       "      <td>3</td>\n",
       "      <td>1</td>\n",
       "      <td>2019-11-10 00:57:10</td>\n",
       "      <td>2054.0</td>\n",
       "      <td>2</td>\n",
       "      <td>1</td>\n",
       "    </tr>\n",
       "    <tr>\n",
       "      <th>3</th>\n",
       "      <td>219689</td>\n",
       "      <td>218490</td>\n",
       "      <td>1</td>\n",
       "      <td>329</td>\n",
       "      <td>2</td>\n",
       "      <td>52</td>\n",
       "      <td>1</td>\n",
       "      <td>1</td>\n",
       "      <td>2019-11-10 00:57:10</td>\n",
       "      <td>2493.0</td>\n",
       "      <td>3</td>\n",
       "      <td>1</td>\n",
       "    </tr>\n",
       "    <tr>\n",
       "      <th>4</th>\n",
       "      <td>219943</td>\n",
       "      <td>218490</td>\n",
       "      <td>1</td>\n",
       "      <td>389</td>\n",
       "      <td>2</td>\n",
       "      <td>20</td>\n",
       "      <td>2</td>\n",
       "      <td>1</td>\n",
       "      <td>2019-11-10 00:57:10</td>\n",
       "      <td>2918.0</td>\n",
       "      <td>4</td>\n",
       "      <td>1</td>\n",
       "    </tr>\n",
       "    <tr>\n",
       "      <th>...</th>\n",
       "      <td>...</td>\n",
       "      <td>...</td>\n",
       "      <td>...</td>\n",
       "      <td>...</td>\n",
       "      <td>...</td>\n",
       "      <td>...</td>\n",
       "      <td>...</td>\n",
       "      <td>...</td>\n",
       "      <td>...</td>\n",
       "      <td>...</td>\n",
       "      <td>...</td>\n",
       "      <td>...</td>\n",
       "    </tr>\n",
       "    <tr>\n",
       "      <th>812728</th>\n",
       "      <td>15802664</td>\n",
       "      <td>234754</td>\n",
       "      <td>1</td>\n",
       "      <td>199</td>\n",
       "      <td>0</td>\n",
       "      <td>52</td>\n",
       "      <td>2</td>\n",
       "      <td>1</td>\n",
       "      <td>2020-04-09 23:10:04</td>\n",
       "      <td>3540.0</td>\n",
       "      <td>1</td>\n",
       "      <td>0</td>\n",
       "    </tr>\n",
       "    <tr>\n",
       "      <th>812729</th>\n",
       "      <td>15802858</td>\n",
       "      <td>234754</td>\n",
       "      <td>1</td>\n",
       "      <td>151</td>\n",
       "      <td>0</td>\n",
       "      <td>52</td>\n",
       "      <td>3</td>\n",
       "      <td>1</td>\n",
       "      <td>2020-04-09 23:10:04</td>\n",
       "      <td>3723.0</td>\n",
       "      <td>2</td>\n",
       "      <td>0</td>\n",
       "    </tr>\n",
       "    <tr>\n",
       "      <th>812730</th>\n",
       "      <td>15984613</td>\n",
       "      <td>234754</td>\n",
       "      <td>1</td>\n",
       "      <td>264</td>\n",
       "      <td>2</td>\n",
       "      <td>52</td>\n",
       "      <td>1</td>\n",
       "      <td>1</td>\n",
       "      <td>2020-04-09 23:10:04</td>\n",
       "      <td>65639.0</td>\n",
       "      <td>3</td>\n",
       "      <td>0</td>\n",
       "    </tr>\n",
       "    <tr>\n",
       "      <th>812731</th>\n",
       "      <td>15984892</td>\n",
       "      <td>234754</td>\n",
       "      <td>1</td>\n",
       "      <td>129</td>\n",
       "      <td>0</td>\n",
       "      <td>52</td>\n",
       "      <td>2</td>\n",
       "      <td>1</td>\n",
       "      <td>2020-04-09 23:10:04</td>\n",
       "      <td>65788.0</td>\n",
       "      <td>4</td>\n",
       "      <td>0</td>\n",
       "    </tr>\n",
       "    <tr>\n",
       "      <th>812732</th>\n",
       "      <td>15985250</td>\n",
       "      <td>234754</td>\n",
       "      <td>1</td>\n",
       "      <td>168</td>\n",
       "      <td>4</td>\n",
       "      <td>52</td>\n",
       "      <td>3</td>\n",
       "      <td>1</td>\n",
       "      <td>2020-04-09 23:10:04</td>\n",
       "      <td>65989.0</td>\n",
       "      <td>5</td>\n",
       "      <td>0</td>\n",
       "    </tr>\n",
       "  </tbody>\n",
       "</table>\n",
       "<p>812733 rows × 12 columns</p>\n",
       "</div>"
      ],
      "text/plain": [
       "              id  user_id  winner  length  magic_used  player_cards  round  \\\n",
       "0         218714   218490       1     375           7            52      1   \n",
       "1         219061   218490       1     475           3            41      2   \n",
       "2         219430   218490       1     476           0            13      3   \n",
       "3         219689   218490       1     329           2            52      1   \n",
       "4         219943   218490       1     389           2            20      2   \n",
       "...          ...      ...     ...     ...         ...           ...    ...   \n",
       "812728  15802664   234754       1     199           0            52      2   \n",
       "812729  15802858   234754       1     151           0            52      3   \n",
       "812730  15984613   234754       1     264           2            52      1   \n",
       "812731  15984892   234754       1     129           0            52      2   \n",
       "812732  15985250   234754       1     168           4            52      3   \n",
       "\n",
       "        type         create_time     diff  count_of_games  weekend  \n",
       "0          1 2019-11-10 00:57:10   1062.0               0        1  \n",
       "1          1 2019-11-10 00:57:10   1556.0               1        1  \n",
       "2          1 2019-11-10 00:57:10   2054.0               2        1  \n",
       "3          1 2019-11-10 00:57:10   2493.0               3        1  \n",
       "4          1 2019-11-10 00:57:10   2918.0               4        1  \n",
       "...      ...                 ...      ...             ...      ...  \n",
       "812728     1 2020-04-09 23:10:04   3540.0               1        0  \n",
       "812729     1 2020-04-09 23:10:04   3723.0               2        0  \n",
       "812730     1 2020-04-09 23:10:04  65639.0               3        0  \n",
       "812731     1 2020-04-09 23:10:04  65788.0               4        0  \n",
       "812732     1 2020-04-09 23:10:04  65989.0               5        0  \n",
       "\n",
       "[812733 rows x 12 columns]"
      ]
     },
     "execution_count": 27,
     "metadata": {},
     "output_type": "execute_result"
    }
   ],
   "source": [
    "result_df"
   ]
  },
  {
   "cell_type": "code",
   "execution_count": 28,
   "metadata": {},
   "outputs": [],
   "source": [
    "result_df.drop(['create_time'],axis=1,inplace=True)"
   ]
  },
  {
   "cell_type": "markdown",
   "metadata": {},
   "source": [
    "Сохраним полученные данные в файл"
   ]
  },
  {
   "cell_type": "code",
   "execution_count": 31,
   "metadata": {},
   "outputs": [],
   "source": [
    "result_df.to_csv('user_features.csv',index=False)"
   ]
  },
  {
   "cell_type": "code",
   "execution_count": 5,
   "metadata": {},
   "outputs": [],
   "source": [
    "result_df = pd.read_csv('user_features.csv')"
   ]
  },
  {
   "cell_type": "code",
   "execution_count": 6,
   "metadata": {},
   "outputs": [
    {
     "data": {
      "text/html": [
       "<div>\n",
       "<style scoped>\n",
       "    .dataframe tbody tr th:only-of-type {\n",
       "        vertical-align: middle;\n",
       "    }\n",
       "\n",
       "    .dataframe tbody tr th {\n",
       "        vertical-align: top;\n",
       "    }\n",
       "\n",
       "    .dataframe thead th {\n",
       "        text-align: right;\n",
       "    }\n",
       "</style>\n",
       "<table border=\"1\" class=\"dataframe\">\n",
       "  <thead>\n",
       "    <tr style=\"text-align: right;\">\n",
       "      <th></th>\n",
       "      <th>id</th>\n",
       "      <th>user_id</th>\n",
       "      <th>winner</th>\n",
       "      <th>length</th>\n",
       "      <th>magic_used</th>\n",
       "      <th>player_cards</th>\n",
       "      <th>round</th>\n",
       "      <th>type</th>\n",
       "      <th>diff</th>\n",
       "      <th>count_of_games</th>\n",
       "      <th>weekend</th>\n",
       "    </tr>\n",
       "  </thead>\n",
       "  <tbody>\n",
       "    <tr>\n",
       "      <th>0</th>\n",
       "      <td>218714</td>\n",
       "      <td>218490</td>\n",
       "      <td>1</td>\n",
       "      <td>375</td>\n",
       "      <td>7</td>\n",
       "      <td>52</td>\n",
       "      <td>1</td>\n",
       "      <td>1</td>\n",
       "      <td>1062.0</td>\n",
       "      <td>0</td>\n",
       "      <td>1</td>\n",
       "    </tr>\n",
       "    <tr>\n",
       "      <th>1</th>\n",
       "      <td>219061</td>\n",
       "      <td>218490</td>\n",
       "      <td>1</td>\n",
       "      <td>475</td>\n",
       "      <td>3</td>\n",
       "      <td>41</td>\n",
       "      <td>2</td>\n",
       "      <td>1</td>\n",
       "      <td>1556.0</td>\n",
       "      <td>1</td>\n",
       "      <td>1</td>\n",
       "    </tr>\n",
       "    <tr>\n",
       "      <th>2</th>\n",
       "      <td>219430</td>\n",
       "      <td>218490</td>\n",
       "      <td>1</td>\n",
       "      <td>476</td>\n",
       "      <td>0</td>\n",
       "      <td>13</td>\n",
       "      <td>3</td>\n",
       "      <td>1</td>\n",
       "      <td>2054.0</td>\n",
       "      <td>2</td>\n",
       "      <td>1</td>\n",
       "    </tr>\n",
       "    <tr>\n",
       "      <th>3</th>\n",
       "      <td>219689</td>\n",
       "      <td>218490</td>\n",
       "      <td>1</td>\n",
       "      <td>329</td>\n",
       "      <td>2</td>\n",
       "      <td>52</td>\n",
       "      <td>1</td>\n",
       "      <td>1</td>\n",
       "      <td>2493.0</td>\n",
       "      <td>3</td>\n",
       "      <td>1</td>\n",
       "    </tr>\n",
       "    <tr>\n",
       "      <th>4</th>\n",
       "      <td>219943</td>\n",
       "      <td>218490</td>\n",
       "      <td>1</td>\n",
       "      <td>389</td>\n",
       "      <td>2</td>\n",
       "      <td>20</td>\n",
       "      <td>2</td>\n",
       "      <td>1</td>\n",
       "      <td>2918.0</td>\n",
       "      <td>4</td>\n",
       "      <td>1</td>\n",
       "    </tr>\n",
       "    <tr>\n",
       "      <th>...</th>\n",
       "      <td>...</td>\n",
       "      <td>...</td>\n",
       "      <td>...</td>\n",
       "      <td>...</td>\n",
       "      <td>...</td>\n",
       "      <td>...</td>\n",
       "      <td>...</td>\n",
       "      <td>...</td>\n",
       "      <td>...</td>\n",
       "      <td>...</td>\n",
       "      <td>...</td>\n",
       "    </tr>\n",
       "    <tr>\n",
       "      <th>812728</th>\n",
       "      <td>15802664</td>\n",
       "      <td>234754</td>\n",
       "      <td>1</td>\n",
       "      <td>199</td>\n",
       "      <td>0</td>\n",
       "      <td>52</td>\n",
       "      <td>2</td>\n",
       "      <td>1</td>\n",
       "      <td>3540.0</td>\n",
       "      <td>1</td>\n",
       "      <td>0</td>\n",
       "    </tr>\n",
       "    <tr>\n",
       "      <th>812729</th>\n",
       "      <td>15802858</td>\n",
       "      <td>234754</td>\n",
       "      <td>1</td>\n",
       "      <td>151</td>\n",
       "      <td>0</td>\n",
       "      <td>52</td>\n",
       "      <td>3</td>\n",
       "      <td>1</td>\n",
       "      <td>3723.0</td>\n",
       "      <td>2</td>\n",
       "      <td>0</td>\n",
       "    </tr>\n",
       "    <tr>\n",
       "      <th>812730</th>\n",
       "      <td>15984613</td>\n",
       "      <td>234754</td>\n",
       "      <td>1</td>\n",
       "      <td>264</td>\n",
       "      <td>2</td>\n",
       "      <td>52</td>\n",
       "      <td>1</td>\n",
       "      <td>1</td>\n",
       "      <td>65639.0</td>\n",
       "      <td>3</td>\n",
       "      <td>0</td>\n",
       "    </tr>\n",
       "    <tr>\n",
       "      <th>812731</th>\n",
       "      <td>15984892</td>\n",
       "      <td>234754</td>\n",
       "      <td>1</td>\n",
       "      <td>129</td>\n",
       "      <td>0</td>\n",
       "      <td>52</td>\n",
       "      <td>2</td>\n",
       "      <td>1</td>\n",
       "      <td>65788.0</td>\n",
       "      <td>4</td>\n",
       "      <td>0</td>\n",
       "    </tr>\n",
       "    <tr>\n",
       "      <th>812732</th>\n",
       "      <td>15985250</td>\n",
       "      <td>234754</td>\n",
       "      <td>1</td>\n",
       "      <td>168</td>\n",
       "      <td>4</td>\n",
       "      <td>52</td>\n",
       "      <td>3</td>\n",
       "      <td>1</td>\n",
       "      <td>65989.0</td>\n",
       "      <td>5</td>\n",
       "      <td>0</td>\n",
       "    </tr>\n",
       "  </tbody>\n",
       "</table>\n",
       "<p>812733 rows × 11 columns</p>\n",
       "</div>"
      ],
      "text/plain": [
       "              id  user_id  winner  length  magic_used  player_cards  round  \\\n",
       "0         218714   218490       1     375           7            52      1   \n",
       "1         219061   218490       1     475           3            41      2   \n",
       "2         219430   218490       1     476           0            13      3   \n",
       "3         219689   218490       1     329           2            52      1   \n",
       "4         219943   218490       1     389           2            20      2   \n",
       "...          ...      ...     ...     ...         ...           ...    ...   \n",
       "812728  15802664   234754       1     199           0            52      2   \n",
       "812729  15802858   234754       1     151           0            52      3   \n",
       "812730  15984613   234754       1     264           2            52      1   \n",
       "812731  15984892   234754       1     129           0            52      2   \n",
       "812732  15985250   234754       1     168           4            52      3   \n",
       "\n",
       "        type     diff  count_of_games  weekend  \n",
       "0          1   1062.0               0        1  \n",
       "1          1   1556.0               1        1  \n",
       "2          1   2054.0               2        1  \n",
       "3          1   2493.0               3        1  \n",
       "4          1   2918.0               4        1  \n",
       "...      ...      ...             ...      ...  \n",
       "812728     1   3540.0               1        0  \n",
       "812729     1   3723.0               2        0  \n",
       "812730     1  65639.0               3        0  \n",
       "812731     1  65788.0               4        0  \n",
       "812732     1  65989.0               5        0  \n",
       "\n",
       "[812733 rows x 11 columns]"
      ]
     },
     "execution_count": 6,
     "metadata": {},
     "output_type": "execute_result"
    }
   ],
   "source": [
    "result_df"
   ]
  },
  {
   "cell_type": "markdown",
   "metadata": {},
   "source": [
    "Добавим переменную которую нужно предсказать, предварительно сохранив данные"
   ]
  },
  {
   "cell_type": "code",
   "execution_count": 7,
   "metadata": {},
   "outputs": [],
   "source": [
    "df_pred = pd.read_csv('predictions.csv')"
   ]
  },
  {
   "cell_type": "code",
   "execution_count": 8,
   "metadata": {},
   "outputs": [
    {
     "data": {
      "text/html": [
       "<div>\n",
       "<style scoped>\n",
       "    .dataframe tbody tr th:only-of-type {\n",
       "        vertical-align: middle;\n",
       "    }\n",
       "\n",
       "    .dataframe tbody tr th {\n",
       "        vertical-align: top;\n",
       "    }\n",
       "\n",
       "    .dataframe thead th {\n",
       "        text-align: right;\n",
       "    }\n",
       "</style>\n",
       "<table border=\"1\" class=\"dataframe\">\n",
       "  <thead>\n",
       "    <tr style=\"text-align: right;\">\n",
       "      <th></th>\n",
       "      <th>id</th>\n",
       "      <th>prediction</th>\n",
       "    </tr>\n",
       "  </thead>\n",
       "  <tbody>\n",
       "    <tr>\n",
       "      <th>0</th>\n",
       "      <td>218490</td>\n",
       "      <td>0</td>\n",
       "    </tr>\n",
       "    <tr>\n",
       "      <th>1</th>\n",
       "      <td>218493</td>\n",
       "      <td>1</td>\n",
       "    </tr>\n",
       "    <tr>\n",
       "      <th>2</th>\n",
       "      <td>218499</td>\n",
       "      <td>0</td>\n",
       "    </tr>\n",
       "  </tbody>\n",
       "</table>\n",
       "</div>"
      ],
      "text/plain": [
       "       id  prediction\n",
       "0  218490           0\n",
       "1  218493           1\n",
       "2  218499           0"
      ]
     },
     "execution_count": 8,
     "metadata": {},
     "output_type": "execute_result"
    }
   ],
   "source": [
    "df_pred.head(3)"
   ]
  },
  {
   "cell_type": "code",
   "execution_count": 9,
   "metadata": {},
   "outputs": [],
   "source": [
    "result_df = result_df.join(df_pred.set_index(['id']),on='user_id')"
   ]
  },
  {
   "cell_type": "code",
   "execution_count": 10,
   "metadata": {},
   "outputs": [
    {
     "data": {
      "text/html": [
       "<div>\n",
       "<style scoped>\n",
       "    .dataframe tbody tr th:only-of-type {\n",
       "        vertical-align: middle;\n",
       "    }\n",
       "\n",
       "    .dataframe tbody tr th {\n",
       "        vertical-align: top;\n",
       "    }\n",
       "\n",
       "    .dataframe thead th {\n",
       "        text-align: right;\n",
       "    }\n",
       "</style>\n",
       "<table border=\"1\" class=\"dataframe\">\n",
       "  <thead>\n",
       "    <tr style=\"text-align: right;\">\n",
       "      <th></th>\n",
       "      <th>id</th>\n",
       "      <th>user_id</th>\n",
       "      <th>winner</th>\n",
       "      <th>length</th>\n",
       "      <th>magic_used</th>\n",
       "      <th>player_cards</th>\n",
       "      <th>round</th>\n",
       "      <th>type</th>\n",
       "      <th>diff</th>\n",
       "      <th>count_of_games</th>\n",
       "      <th>weekend</th>\n",
       "      <th>prediction</th>\n",
       "    </tr>\n",
       "  </thead>\n",
       "  <tbody>\n",
       "    <tr>\n",
       "      <th>id</th>\n",
       "      <td>1.000000</td>\n",
       "      <td>0.965359</td>\n",
       "      <td>-0.012337</td>\n",
       "      <td>0.004728</td>\n",
       "      <td>-0.027301</td>\n",
       "      <td>-0.013411</td>\n",
       "      <td>-0.004061</td>\n",
       "      <td>-0.018008</td>\n",
       "      <td>0.052022</td>\n",
       "      <td>0.093812</td>\n",
       "      <td>-0.066613</td>\n",
       "      <td>-0.019640</td>\n",
       "    </tr>\n",
       "    <tr>\n",
       "      <th>user_id</th>\n",
       "      <td>0.965359</td>\n",
       "      <td>1.000000</td>\n",
       "      <td>-0.003846</td>\n",
       "      <td>0.043626</td>\n",
       "      <td>0.000362</td>\n",
       "      <td>-0.010824</td>\n",
       "      <td>-0.000727</td>\n",
       "      <td>-0.033916</td>\n",
       "      <td>0.024627</td>\n",
       "      <td>-0.014470</td>\n",
       "      <td>-0.050847</td>\n",
       "      <td>0.013601</td>\n",
       "    </tr>\n",
       "    <tr>\n",
       "      <th>winner</th>\n",
       "      <td>-0.012337</td>\n",
       "      <td>-0.003846</td>\n",
       "      <td>1.000000</td>\n",
       "      <td>-0.001035</td>\n",
       "      <td>0.064093</td>\n",
       "      <td>0.384497</td>\n",
       "      <td>-0.066190</td>\n",
       "      <td>-0.078429</td>\n",
       "      <td>-0.007051</td>\n",
       "      <td>-0.024228</td>\n",
       "      <td>0.002132</td>\n",
       "      <td>0.010700</td>\n",
       "    </tr>\n",
       "    <tr>\n",
       "      <th>length</th>\n",
       "      <td>0.004728</td>\n",
       "      <td>0.043626</td>\n",
       "      <td>-0.001035</td>\n",
       "      <td>1.000000</td>\n",
       "      <td>0.152333</td>\n",
       "      <td>0.010219</td>\n",
       "      <td>-0.022726</td>\n",
       "      <td>-0.109665</td>\n",
       "      <td>-0.048775</td>\n",
       "      <td>-0.251443</td>\n",
       "      <td>-0.013834</td>\n",
       "      <td>0.065179</td>\n",
       "    </tr>\n",
       "    <tr>\n",
       "      <th>magic_used</th>\n",
       "      <td>-0.027301</td>\n",
       "      <td>0.000362</td>\n",
       "      <td>0.064093</td>\n",
       "      <td>0.152333</td>\n",
       "      <td>1.000000</td>\n",
       "      <td>0.110698</td>\n",
       "      <td>0.027292</td>\n",
       "      <td>-0.030518</td>\n",
       "      <td>-0.078303</td>\n",
       "      <td>-0.070643</td>\n",
       "      <td>-0.002494</td>\n",
       "      <td>0.162494</td>\n",
       "    </tr>\n",
       "    <tr>\n",
       "      <th>player_cards</th>\n",
       "      <td>-0.013411</td>\n",
       "      <td>-0.010824</td>\n",
       "      <td>0.384497</td>\n",
       "      <td>0.010219</td>\n",
       "      <td>0.110698</td>\n",
       "      <td>1.000000</td>\n",
       "      <td>0.004712</td>\n",
       "      <td>-0.003590</td>\n",
       "      <td>-0.017428</td>\n",
       "      <td>0.026032</td>\n",
       "      <td>0.001688</td>\n",
       "      <td>0.033252</td>\n",
       "    </tr>\n",
       "    <tr>\n",
       "      <th>round</th>\n",
       "      <td>-0.004061</td>\n",
       "      <td>-0.000727</td>\n",
       "      <td>-0.066190</td>\n",
       "      <td>-0.022726</td>\n",
       "      <td>0.027292</td>\n",
       "      <td>0.004712</td>\n",
       "      <td>1.000000</td>\n",
       "      <td>-0.078307</td>\n",
       "      <td>-0.006280</td>\n",
       "      <td>-0.006722</td>\n",
       "      <td>-0.000534</td>\n",
       "      <td>0.003050</td>\n",
       "    </tr>\n",
       "    <tr>\n",
       "      <th>type</th>\n",
       "      <td>-0.018008</td>\n",
       "      <td>-0.033916</td>\n",
       "      <td>-0.078429</td>\n",
       "      <td>-0.109665</td>\n",
       "      <td>-0.030518</td>\n",
       "      <td>-0.003590</td>\n",
       "      <td>-0.078307</td>\n",
       "      <td>1.000000</td>\n",
       "      <td>0.019709</td>\n",
       "      <td>0.162832</td>\n",
       "      <td>-0.008365</td>\n",
       "      <td>-0.035070</td>\n",
       "    </tr>\n",
       "    <tr>\n",
       "      <th>diff</th>\n",
       "      <td>0.052022</td>\n",
       "      <td>0.024627</td>\n",
       "      <td>-0.007051</td>\n",
       "      <td>-0.048775</td>\n",
       "      <td>-0.078303</td>\n",
       "      <td>-0.017428</td>\n",
       "      <td>-0.006280</td>\n",
       "      <td>0.019709</td>\n",
       "      <td>1.000000</td>\n",
       "      <td>0.082978</td>\n",
       "      <td>-0.002735</td>\n",
       "      <td>-0.119056</td>\n",
       "    </tr>\n",
       "    <tr>\n",
       "      <th>count_of_games</th>\n",
       "      <td>0.093812</td>\n",
       "      <td>-0.014470</td>\n",
       "      <td>-0.024228</td>\n",
       "      <td>-0.251443</td>\n",
       "      <td>-0.070643</td>\n",
       "      <td>0.026032</td>\n",
       "      <td>-0.006722</td>\n",
       "      <td>0.162832</td>\n",
       "      <td>0.082978</td>\n",
       "      <td>1.000000</td>\n",
       "      <td>0.028228</td>\n",
       "      <td>-0.075737</td>\n",
       "    </tr>\n",
       "    <tr>\n",
       "      <th>weekend</th>\n",
       "      <td>-0.066613</td>\n",
       "      <td>-0.050847</td>\n",
       "      <td>0.002132</td>\n",
       "      <td>-0.013834</td>\n",
       "      <td>-0.002494</td>\n",
       "      <td>0.001688</td>\n",
       "      <td>-0.000534</td>\n",
       "      <td>-0.008365</td>\n",
       "      <td>-0.002735</td>\n",
       "      <td>0.028228</td>\n",
       "      <td>1.000000</td>\n",
       "      <td>0.010877</td>\n",
       "    </tr>\n",
       "    <tr>\n",
       "      <th>prediction</th>\n",
       "      <td>-0.019640</td>\n",
       "      <td>0.013601</td>\n",
       "      <td>0.010700</td>\n",
       "      <td>0.065179</td>\n",
       "      <td>0.162494</td>\n",
       "      <td>0.033252</td>\n",
       "      <td>0.003050</td>\n",
       "      <td>-0.035070</td>\n",
       "      <td>-0.119056</td>\n",
       "      <td>-0.075737</td>\n",
       "      <td>0.010877</td>\n",
       "      <td>1.000000</td>\n",
       "    </tr>\n",
       "  </tbody>\n",
       "</table>\n",
       "</div>"
      ],
      "text/plain": [
       "                      id   user_id    winner    length  magic_used  \\\n",
       "id              1.000000  0.965359 -0.012337  0.004728   -0.027301   \n",
       "user_id         0.965359  1.000000 -0.003846  0.043626    0.000362   \n",
       "winner         -0.012337 -0.003846  1.000000 -0.001035    0.064093   \n",
       "length          0.004728  0.043626 -0.001035  1.000000    0.152333   \n",
       "magic_used     -0.027301  0.000362  0.064093  0.152333    1.000000   \n",
       "player_cards   -0.013411 -0.010824  0.384497  0.010219    0.110698   \n",
       "round          -0.004061 -0.000727 -0.066190 -0.022726    0.027292   \n",
       "type           -0.018008 -0.033916 -0.078429 -0.109665   -0.030518   \n",
       "diff            0.052022  0.024627 -0.007051 -0.048775   -0.078303   \n",
       "count_of_games  0.093812 -0.014470 -0.024228 -0.251443   -0.070643   \n",
       "weekend        -0.066613 -0.050847  0.002132 -0.013834   -0.002494   \n",
       "prediction     -0.019640  0.013601  0.010700  0.065179    0.162494   \n",
       "\n",
       "                player_cards     round      type      diff  count_of_games  \\\n",
       "id                 -0.013411 -0.004061 -0.018008  0.052022        0.093812   \n",
       "user_id            -0.010824 -0.000727 -0.033916  0.024627       -0.014470   \n",
       "winner              0.384497 -0.066190 -0.078429 -0.007051       -0.024228   \n",
       "length              0.010219 -0.022726 -0.109665 -0.048775       -0.251443   \n",
       "magic_used          0.110698  0.027292 -0.030518 -0.078303       -0.070643   \n",
       "player_cards        1.000000  0.004712 -0.003590 -0.017428        0.026032   \n",
       "round               0.004712  1.000000 -0.078307 -0.006280       -0.006722   \n",
       "type               -0.003590 -0.078307  1.000000  0.019709        0.162832   \n",
       "diff               -0.017428 -0.006280  0.019709  1.000000        0.082978   \n",
       "count_of_games      0.026032 -0.006722  0.162832  0.082978        1.000000   \n",
       "weekend             0.001688 -0.000534 -0.008365 -0.002735        0.028228   \n",
       "prediction          0.033252  0.003050 -0.035070 -0.119056       -0.075737   \n",
       "\n",
       "                 weekend  prediction  \n",
       "id             -0.066613   -0.019640  \n",
       "user_id        -0.050847    0.013601  \n",
       "winner          0.002132    0.010700  \n",
       "length         -0.013834    0.065179  \n",
       "magic_used     -0.002494    0.162494  \n",
       "player_cards    0.001688    0.033252  \n",
       "round          -0.000534    0.003050  \n",
       "type           -0.008365   -0.035070  \n",
       "diff           -0.002735   -0.119056  \n",
       "count_of_games  0.028228   -0.075737  \n",
       "weekend         1.000000    0.010877  \n",
       "prediction      0.010877    1.000000  "
      ]
     },
     "execution_count": 10,
     "metadata": {},
     "output_type": "execute_result"
    }
   ],
   "source": [
    "result_df.corr()"
   ]
  },
  {
   "cell_type": "markdown",
   "metadata": {},
   "source": [
    "Наибольшая корреляция предскаываемой переменной наблюдается с используемой магией и разницей во времени между играми"
   ]
  },
  {
   "cell_type": "markdown",
   "metadata": {},
   "source": [
    "Пропущенные значения заполним как -1, так будет удобнее"
   ]
  },
  {
   "cell_type": "code",
   "execution_count": 11,
   "metadata": {},
   "outputs": [],
   "source": [
    "result_df.fillna(-1,inplace=True)"
   ]
  },
  {
   "cell_type": "markdown",
   "metadata": {},
   "source": [
    "# Построение модели"
   ]
  },
  {
   "cell_type": "markdown",
   "metadata": {},
   "source": [
    "Так как для предсказания будем использовать деревья, то можно не заниматься масшатибруемостью данных"
   ]
  },
  {
   "cell_type": "markdown",
   "metadata": {},
   "source": [
    "Так как нужно предсказывать не по каждому матчу а по пользователю. То сгруппируем данные по \"user_id\""
   ]
  },
  {
   "cell_type": "code",
   "execution_count": 22,
   "metadata": {},
   "outputs": [
    {
     "data": {
      "text/html": [
       "<div>\n",
       "<style scoped>\n",
       "    .dataframe tbody tr th:only-of-type {\n",
       "        vertical-align: middle;\n",
       "    }\n",
       "\n",
       "    .dataframe tbody tr th {\n",
       "        vertical-align: top;\n",
       "    }\n",
       "\n",
       "    .dataframe thead th {\n",
       "        text-align: right;\n",
       "    }\n",
       "</style>\n",
       "<table border=\"1\" class=\"dataframe\">\n",
       "  <thead>\n",
       "    <tr style=\"text-align: right;\">\n",
       "      <th></th>\n",
       "      <th>id</th>\n",
       "      <th>winner</th>\n",
       "      <th>length</th>\n",
       "      <th>magic_used</th>\n",
       "      <th>player_cards</th>\n",
       "      <th>round</th>\n",
       "      <th>type</th>\n",
       "      <th>diff</th>\n",
       "      <th>count_of_games</th>\n",
       "      <th>weekend</th>\n",
       "      <th>prediction</th>\n",
       "    </tr>\n",
       "    <tr>\n",
       "      <th>user_id</th>\n",
       "      <th></th>\n",
       "      <th></th>\n",
       "      <th></th>\n",
       "      <th></th>\n",
       "      <th></th>\n",
       "      <th></th>\n",
       "      <th></th>\n",
       "      <th></th>\n",
       "      <th></th>\n",
       "      <th></th>\n",
       "      <th></th>\n",
       "    </tr>\n",
       "  </thead>\n",
       "  <tbody>\n",
       "    <tr>\n",
       "      <th>218490</th>\n",
       "      <td>1.412700e+06</td>\n",
       "      <td>0.729659</td>\n",
       "      <td>426.590551</td>\n",
       "      <td>0.128609</td>\n",
       "      <td>20.551181</td>\n",
       "      <td>1.784777</td>\n",
       "      <td>1.199475</td>\n",
       "      <td>40635.057743</td>\n",
       "      <td>190.0</td>\n",
       "      <td>1.0</td>\n",
       "      <td>0.0</td>\n",
       "    </tr>\n",
       "    <tr>\n",
       "      <th>218492</th>\n",
       "      <td>2.200710e+05</td>\n",
       "      <td>1.000000</td>\n",
       "      <td>316.333333</td>\n",
       "      <td>0.666667</td>\n",
       "      <td>36.000000</td>\n",
       "      <td>2.000000</td>\n",
       "      <td>1.000000</td>\n",
       "      <td>997.666667</td>\n",
       "      <td>1.0</td>\n",
       "      <td>1.0</td>\n",
       "      <td>-1.0</td>\n",
       "    </tr>\n",
       "    <tr>\n",
       "      <th>218493</th>\n",
       "      <td>2.219399e+05</td>\n",
       "      <td>0.571429</td>\n",
       "      <td>471.142857</td>\n",
       "      <td>2.285714</td>\n",
       "      <td>41.428571</td>\n",
       "      <td>1.857143</td>\n",
       "      <td>1.000000</td>\n",
       "      <td>4418.428571</td>\n",
       "      <td>3.0</td>\n",
       "      <td>1.0</td>\n",
       "      <td>1.0</td>\n",
       "    </tr>\n",
       "    <tr>\n",
       "      <th>218499</th>\n",
       "      <td>4.591860e+05</td>\n",
       "      <td>0.956522</td>\n",
       "      <td>128.391304</td>\n",
       "      <td>0.086957</td>\n",
       "      <td>25.652174</td>\n",
       "      <td>1.956522</td>\n",
       "      <td>1.000000</td>\n",
       "      <td>38479.782609</td>\n",
       "      <td>11.0</td>\n",
       "      <td>1.0</td>\n",
       "      <td>0.0</td>\n",
       "    </tr>\n",
       "    <tr>\n",
       "      <th>218507</th>\n",
       "      <td>2.285958e+05</td>\n",
       "      <td>0.750000</td>\n",
       "      <td>181.000000</td>\n",
       "      <td>2.500000</td>\n",
       "      <td>39.000000</td>\n",
       "      <td>1.750000</td>\n",
       "      <td>1.000000</td>\n",
       "      <td>833.000000</td>\n",
       "      <td>1.5</td>\n",
       "      <td>1.0</td>\n",
       "      <td>1.0</td>\n",
       "    </tr>\n",
       "    <tr>\n",
       "      <th>...</th>\n",
       "      <td>...</td>\n",
       "      <td>...</td>\n",
       "      <td>...</td>\n",
       "      <td>...</td>\n",
       "      <td>...</td>\n",
       "      <td>...</td>\n",
       "      <td>...</td>\n",
       "      <td>...</td>\n",
       "      <td>...</td>\n",
       "      <td>...</td>\n",
       "      <td>...</td>\n",
       "    </tr>\n",
       "    <tr>\n",
       "      <th>234743</th>\n",
       "      <td>1.578843e+07</td>\n",
       "      <td>0.800000</td>\n",
       "      <td>196.200000</td>\n",
       "      <td>2.000000</td>\n",
       "      <td>40.000000</td>\n",
       "      <td>1.800000</td>\n",
       "      <td>1.000000</td>\n",
       "      <td>1678.000000</td>\n",
       "      <td>2.0</td>\n",
       "      <td>0.0</td>\n",
       "      <td>1.0</td>\n",
       "    </tr>\n",
       "    <tr>\n",
       "      <th>234747</th>\n",
       "      <td>1.579174e+07</td>\n",
       "      <td>1.000000</td>\n",
       "      <td>159.000000</td>\n",
       "      <td>0.666667</td>\n",
       "      <td>40.000000</td>\n",
       "      <td>2.000000</td>\n",
       "      <td>1.000000</td>\n",
       "      <td>582.333333</td>\n",
       "      <td>1.0</td>\n",
       "      <td>0.0</td>\n",
       "      <td>-1.0</td>\n",
       "    </tr>\n",
       "    <tr>\n",
       "      <th>234752</th>\n",
       "      <td>1.660011e+07</td>\n",
       "      <td>0.850000</td>\n",
       "      <td>129.473077</td>\n",
       "      <td>0.000000</td>\n",
       "      <td>26.980769</td>\n",
       "      <td>1.903846</td>\n",
       "      <td>1.561538</td>\n",
       "      <td>22989.715385</td>\n",
       "      <td>129.5</td>\n",
       "      <td>0.0</td>\n",
       "      <td>0.0</td>\n",
       "    </tr>\n",
       "    <tr>\n",
       "      <th>234753</th>\n",
       "      <td>1.579958e+07</td>\n",
       "      <td>0.666667</td>\n",
       "      <td>270.000000</td>\n",
       "      <td>0.000000</td>\n",
       "      <td>6.000000</td>\n",
       "      <td>2.000000</td>\n",
       "      <td>1.000000</td>\n",
       "      <td>1246.333333</td>\n",
       "      <td>1.0</td>\n",
       "      <td>0.0</td>\n",
       "      <td>1.0</td>\n",
       "    </tr>\n",
       "    <tr>\n",
       "      <th>234754</th>\n",
       "      <td>1.589378e+07</td>\n",
       "      <td>1.000000</td>\n",
       "      <td>205.666667</td>\n",
       "      <td>1.166667</td>\n",
       "      <td>52.000000</td>\n",
       "      <td>2.000000</td>\n",
       "      <td>1.000000</td>\n",
       "      <td>34663.666667</td>\n",
       "      <td>2.5</td>\n",
       "      <td>0.0</td>\n",
       "      <td>0.0</td>\n",
       "    </tr>\n",
       "  </tbody>\n",
       "</table>\n",
       "<p>5289 rows × 11 columns</p>\n",
       "</div>"
      ],
      "text/plain": [
       "                   id    winner      length  magic_used  player_cards  \\\n",
       "user_id                                                                 \n",
       "218490   1.412700e+06  0.729659  426.590551    0.128609     20.551181   \n",
       "218492   2.200710e+05  1.000000  316.333333    0.666667     36.000000   \n",
       "218493   2.219399e+05  0.571429  471.142857    2.285714     41.428571   \n",
       "218499   4.591860e+05  0.956522  128.391304    0.086957     25.652174   \n",
       "218507   2.285958e+05  0.750000  181.000000    2.500000     39.000000   \n",
       "...               ...       ...         ...         ...           ...   \n",
       "234743   1.578843e+07  0.800000  196.200000    2.000000     40.000000   \n",
       "234747   1.579174e+07  1.000000  159.000000    0.666667     40.000000   \n",
       "234752   1.660011e+07  0.850000  129.473077    0.000000     26.980769   \n",
       "234753   1.579958e+07  0.666667  270.000000    0.000000      6.000000   \n",
       "234754   1.589378e+07  1.000000  205.666667    1.166667     52.000000   \n",
       "\n",
       "            round      type          diff  count_of_games  weekend  prediction  \n",
       "user_id                                                                         \n",
       "218490   1.784777  1.199475  40635.057743           190.0      1.0         0.0  \n",
       "218492   2.000000  1.000000    997.666667             1.0      1.0        -1.0  \n",
       "218493   1.857143  1.000000   4418.428571             3.0      1.0         1.0  \n",
       "218499   1.956522  1.000000  38479.782609            11.0      1.0         0.0  \n",
       "218507   1.750000  1.000000    833.000000             1.5      1.0         1.0  \n",
       "...           ...       ...           ...             ...      ...         ...  \n",
       "234743   1.800000  1.000000   1678.000000             2.0      0.0         1.0  \n",
       "234747   2.000000  1.000000    582.333333             1.0      0.0        -1.0  \n",
       "234752   1.903846  1.561538  22989.715385           129.5      0.0         0.0  \n",
       "234753   2.000000  1.000000   1246.333333             1.0      0.0         1.0  \n",
       "234754   2.000000  1.000000  34663.666667             2.5      0.0         0.0  \n",
       "\n",
       "[5289 rows x 11 columns]"
      ]
     },
     "execution_count": 22,
     "metadata": {},
     "output_type": "execute_result"
    }
   ],
   "source": [
    "grouped_by_user_df = result_df.groupby([\"user_id\"]).mean()\n",
    "grouped_by_user_df"
   ]
  },
  {
   "cell_type": "markdown",
   "metadata": {},
   "source": [
    "Использовать среднее не совсем хорошо, потому что оно может быть смещено, например время \"diff\" может быть достаточно большим, хотя человек играл только в первый день и зашел спустя пол года."
   ]
  },
  {
   "cell_type": "markdown",
   "metadata": {},
   "source": [
    "Для начала посмотрим количество объектов каждого класса"
   ]
  },
  {
   "cell_type": "code",
   "execution_count": 23,
   "metadata": {},
   "outputs": [
    {
     "name": "stdout",
     "output_type": "stream",
     "text": [
      "Количество объектов положительного класса:  1159\n",
      "Количество объектов отрицательного класса:  2841\n",
      "Их отношение:  2.4512510785159622\n"
     ]
    }
   ],
   "source": [
    "print(\"Количество объектов положительного класса: \",grouped_by_user_df.prediction[grouped_by_user_df.prediction==1].count())\n",
    "print(\"Количество объектов отрицательного класса: \",grouped_by_user_df.prediction[grouped_by_user_df.prediction==0].count())\n",
    "print(\"Их отношение: \",grouped_by_user_df.prediction[grouped_by_user_df.prediction==0].count()/grouped_by_user_df.prediction[grouped_by_user_df.prediction==1].count())"
   ]
  },
  {
   "cell_type": "markdown",
   "metadata": {},
   "source": [
    "В принципе, есть перевес одного класса, но можно попробовать и так обучить модель."
   ]
  },
  {
   "cell_type": "markdown",
   "metadata": {},
   "source": [
    "Удалим id так как после усреднения он вряд ли несет полезную информациюпосле усреднения"
   ]
  },
  {
   "cell_type": "code",
   "execution_count": 24,
   "metadata": {},
   "outputs": [],
   "source": [
    "grouped_by_user_df.drop([\"id\"],inplace=True,axis=1)"
   ]
  },
  {
   "cell_type": "code",
   "execution_count": 48,
   "metadata": {},
   "outputs": [],
   "source": [
    "answer = grouped_by_user_df[grouped_by_user_df.prediction==-1]\n",
    "data = grouped_by_user_df[grouped_by_user_df.prediction!=-1]"
   ]
  },
  {
   "cell_type": "code",
   "execution_count": 49,
   "metadata": {},
   "outputs": [
    {
     "data": {
      "text/plain": [
       "-1    1289\n",
       "Name: prediction, dtype: int64"
      ]
     },
     "execution_count": 49,
     "metadata": {},
     "output_type": "execute_result"
    }
   ],
   "source": [
    "answer.prediction.value_counts()"
   ]
  },
  {
   "cell_type": "code",
   "execution_count": 50,
   "metadata": {},
   "outputs": [
    {
     "name": "stderr",
     "output_type": "stream",
     "text": [
      "/home/danilka/anaconda3/lib/python3.7/site-packages/pandas/core/frame.py:3997: SettingWithCopyWarning: \n",
      "A value is trying to be set on a copy of a slice from a DataFrame\n",
      "\n",
      "See the caveats in the documentation: https://pandas.pydata.org/pandas-docs/stable/user_guide/indexing.html#returning-a-view-versus-a-copy\n",
      "  errors=errors,\n"
     ]
    }
   ],
   "source": [
    "answer.drop(['prediction'],axis=1,inplace=True)"
   ]
  },
  {
   "cell_type": "code",
   "execution_count": 52,
   "metadata": {},
   "outputs": [],
   "source": [
    "y = data.prediction.to_numpy()\n",
    "X = data.drop(['prediction'],axis=1).to_numpy()\n",
    "X_train, X_test, y_train, y_test = train_test_split(X, y, test_size=0.33, random_state=42)"
   ]
  },
  {
   "cell_type": "code",
   "execution_count": 53,
   "metadata": {},
   "outputs": [
    {
     "data": {
      "text/plain": [
       "RandomForestClassifier()"
      ]
     },
     "execution_count": 53,
     "metadata": {},
     "output_type": "execute_result"
    }
   ],
   "source": [
    "rfc = RandomForestClassifier()\n",
    "rfc.fit(X_train,y_train)"
   ]
  },
  {
   "cell_type": "code",
   "execution_count": 54,
   "metadata": {},
   "outputs": [],
   "source": [
    "def show_results(model,X_test,y_test):\n",
    "    result_proba = model.predict_proba(X_test)\n",
    "    result = model.predict(X_test)\n",
    "    print(\"ROC-AUC SCORE: \",roc_auc_score(y_test,result_proba[:,1]))\n",
    "    print(\"F1: \",f1_score(y_test,result))\n",
    "    precision,recall,treshold = precision_recall_curve(y_test,result_proba[:,1])\n",
    "    sns.lineplot(y=precision,x=recall)\n",
    "    plt.xlabel(\"Recall\")\n",
    "    plt.ylabel(\"Precision\")\n",
    "    plt.title(\"Precision Recall curve\")\n",
    "    print(\"Confusion matrix: \\n\",confusion_matrix(y_test,result))"
   ]
  },
  {
   "cell_type": "code",
   "execution_count": 55,
   "metadata": {},
   "outputs": [
    {
     "name": "stdout",
     "output_type": "stream",
     "text": [
      "ROC-AUC SCORE:  0.9058921633867998\n",
      "F1:  0.7659574468085106\n",
      "Confusion matrix: \n",
      " [[798 133]\n",
      " [ 65 324]]\n"
     ]
    },
    {
     "data": {
      "image/png": "[encoded data removed]",
      "text/plain": [
       "<Figure size 432x288 with 1 Axes>"
      ]
     },
     "metadata": {
      "needs_background": "light"
     },
     "output_type": "display_data"
    }
   ],
   "source": [
    "show_results(rfc,X_test,y_test)"
   ]
  },
  {
   "cell_type": "markdown",
   "metadata": {},
   "source": [
    "Большие значения данной метрики конечно хороши, но не могут гарантировать хорошую работу модели при дисбалансе классов, так как модели просто достаточно говорить что все поступающие объекты 0 класса, следовательно она будет права в 60 случаях из 100."
   ]
  },
  {
   "cell_type": "markdown",
   "metadata": {},
   "source": [
    "F1 метрика показывает плохие результаты, модель плохо выделяет объекты положительного класса"
   ]
  },
  {
   "cell_type": "markdown",
   "metadata": {},
   "source": [
    "Впринципе можно пойти по простому пути и просто уравнять классы в объеме, так как по 6к объектов каждого из классов более чем достаточно для обучения модели (при таком количестве признаков).\n",
    "\n",
    "## Построим новую модель уже с сбалансированными классами"
   ]
  },
  {
   "cell_type": "code",
   "execution_count": 56,
   "metadata": {},
   "outputs": [],
   "source": [
    "balanced_df = pd.concat([data[data.prediction==0][:data.prediction[data.prediction==1].count()],data[data.prediction==1]])"
   ]
  },
  {
   "cell_type": "code",
   "execution_count": 57,
   "metadata": {},
   "outputs": [],
   "source": [
    "y = balanced_df.prediction.to_numpy()\n",
    "X = balanced_df.drop(['prediction'],axis=1).to_numpy()\n",
    "X_train, X_test, y_train, y_test = train_test_split(X, y, test_size=0.33, random_state=42,shuffle=True)"
   ]
  },
  {
   "cell_type": "code",
   "execution_count": 58,
   "metadata": {},
   "outputs": [
    {
     "data": {
      "text/plain": [
       "RandomForestClassifier()"
      ]
     },
     "execution_count": 58,
     "metadata": {},
     "output_type": "execute_result"
    }
   ],
   "source": [
    "rfc = RandomForestClassifier()\n",
    "rfc.fit(X_train,y_train)"
   ]
  },
  {
   "cell_type": "code",
   "execution_count": 59,
   "metadata": {},
   "outputs": [
    {
     "name": "stdout",
     "output_type": "stream",
     "text": [
      "ROC-AUC SCORE:  0.9157408294224691\n",
      "F1:  0.8837803320561941\n",
      "Confusion matrix: \n",
      " [[328  66]\n",
      " [ 25 346]]\n"
     ]
    },
    {
     "data": {
      "image/png": "[encoded data removed]",
      "text/plain": [
       "<Figure size 432x288 with 1 Axes>"
      ]
     },
     "metadata": {
      "needs_background": "light"
     },
     "output_type": "display_data"
    }
   ],
   "source": [
    "show_results(rfc,X_test,y_test)"
   ]
  },
  {
   "cell_type": "code",
   "execution_count": 61,
   "metadata": {},
   "outputs": [
    {
     "data": {
      "text/html": [
       "<div>\n",
       "<style scoped>\n",
       "    .dataframe tbody tr th:only-of-type {\n",
       "        vertical-align: middle;\n",
       "    }\n",
       "\n",
       "    .dataframe tbody tr th {\n",
       "        vertical-align: top;\n",
       "    }\n",
       "\n",
       "    .dataframe thead th {\n",
       "        text-align: right;\n",
       "    }\n",
       "</style>\n",
       "<table border=\"1\" class=\"dataframe\">\n",
       "  <thead>\n",
       "    <tr style=\"text-align: right;\">\n",
       "      <th></th>\n",
       "      <th>winner</th>\n",
       "      <th>length</th>\n",
       "      <th>magic_used</th>\n",
       "      <th>player_cards</th>\n",
       "      <th>round</th>\n",
       "      <th>type</th>\n",
       "      <th>diff</th>\n",
       "      <th>count_of_games</th>\n",
       "      <th>weekend</th>\n",
       "    </tr>\n",
       "    <tr>\n",
       "      <th>user_id</th>\n",
       "      <th></th>\n",
       "      <th></th>\n",
       "      <th></th>\n",
       "      <th></th>\n",
       "      <th></th>\n",
       "      <th></th>\n",
       "      <th></th>\n",
       "      <th></th>\n",
       "      <th></th>\n",
       "    </tr>\n",
       "  </thead>\n",
       "  <tbody>\n",
       "    <tr>\n",
       "      <th>218492</th>\n",
       "      <td>1.000000</td>\n",
       "      <td>316.333333</td>\n",
       "      <td>0.666667</td>\n",
       "      <td>36.000000</td>\n",
       "      <td>2.000000</td>\n",
       "      <td>1.0</td>\n",
       "      <td>997.666667</td>\n",
       "      <td>1.0</td>\n",
       "      <td>1.0</td>\n",
       "    </tr>\n",
       "    <tr>\n",
       "      <th>218535</th>\n",
       "      <td>0.666667</td>\n",
       "      <td>193.666667</td>\n",
       "      <td>0.333333</td>\n",
       "      <td>34.666667</td>\n",
       "      <td>2.000000</td>\n",
       "      <td>1.0</td>\n",
       "      <td>686.666667</td>\n",
       "      <td>1.0</td>\n",
       "      <td>1.0</td>\n",
       "    </tr>\n",
       "    <tr>\n",
       "      <th>218557</th>\n",
       "      <td>0.777778</td>\n",
       "      <td>214.888889</td>\n",
       "      <td>0.222222</td>\n",
       "      <td>31.000000</td>\n",
       "      <td>2.000000</td>\n",
       "      <td>1.0</td>\n",
       "      <td>10937.888889</td>\n",
       "      <td>4.0</td>\n",
       "      <td>1.0</td>\n",
       "    </tr>\n",
       "    <tr>\n",
       "      <th>218559</th>\n",
       "      <td>0.823529</td>\n",
       "      <td>254.509804</td>\n",
       "      <td>0.209150</td>\n",
       "      <td>23.189542</td>\n",
       "      <td>1.882353</td>\n",
       "      <td>1.0</td>\n",
       "      <td>34640.254902</td>\n",
       "      <td>76.0</td>\n",
       "      <td>1.0</td>\n",
       "    </tr>\n",
       "    <tr>\n",
       "      <th>218591</th>\n",
       "      <td>0.666667</td>\n",
       "      <td>199.000000</td>\n",
       "      <td>2.000000</td>\n",
       "      <td>34.666667</td>\n",
       "      <td>2.000000</td>\n",
       "      <td>1.0</td>\n",
       "      <td>747.666667</td>\n",
       "      <td>1.0</td>\n",
       "      <td>1.0</td>\n",
       "    </tr>\n",
       "    <tr>\n",
       "      <th>...</th>\n",
       "      <td>...</td>\n",
       "      <td>...</td>\n",
       "      <td>...</td>\n",
       "      <td>...</td>\n",
       "      <td>...</td>\n",
       "      <td>...</td>\n",
       "      <td>...</td>\n",
       "      <td>...</td>\n",
       "      <td>...</td>\n",
       "    </tr>\n",
       "    <tr>\n",
       "      <th>234715</th>\n",
       "      <td>0.500000</td>\n",
       "      <td>191.000000</td>\n",
       "      <td>0.000000</td>\n",
       "      <td>26.000000</td>\n",
       "      <td>1.500000</td>\n",
       "      <td>1.0</td>\n",
       "      <td>-1.000000</td>\n",
       "      <td>0.5</td>\n",
       "      <td>0.0</td>\n",
       "    </tr>\n",
       "    <tr>\n",
       "      <th>234722</th>\n",
       "      <td>0.000000</td>\n",
       "      <td>56.000000</td>\n",
       "      <td>0.000000</td>\n",
       "      <td>0.000000</td>\n",
       "      <td>1.000000</td>\n",
       "      <td>1.0</td>\n",
       "      <td>648.000000</td>\n",
       "      <td>0.0</td>\n",
       "      <td>0.0</td>\n",
       "    </tr>\n",
       "    <tr>\n",
       "      <th>234723</th>\n",
       "      <td>1.000000</td>\n",
       "      <td>517.000000</td>\n",
       "      <td>1.000000</td>\n",
       "      <td>52.000000</td>\n",
       "      <td>2.000000</td>\n",
       "      <td>1.0</td>\n",
       "      <td>-1.000000</td>\n",
       "      <td>1.0</td>\n",
       "      <td>0.0</td>\n",
       "    </tr>\n",
       "    <tr>\n",
       "      <th>234734</th>\n",
       "      <td>1.000000</td>\n",
       "      <td>211.416667</td>\n",
       "      <td>0.833333</td>\n",
       "      <td>48.333333</td>\n",
       "      <td>2.000000</td>\n",
       "      <td>1.0</td>\n",
       "      <td>3495.416667</td>\n",
       "      <td>5.5</td>\n",
       "      <td>0.0</td>\n",
       "    </tr>\n",
       "    <tr>\n",
       "      <th>234747</th>\n",
       "      <td>1.000000</td>\n",
       "      <td>159.000000</td>\n",
       "      <td>0.666667</td>\n",
       "      <td>40.000000</td>\n",
       "      <td>2.000000</td>\n",
       "      <td>1.0</td>\n",
       "      <td>582.333333</td>\n",
       "      <td>1.0</td>\n",
       "      <td>0.0</td>\n",
       "    </tr>\n",
       "  </tbody>\n",
       "</table>\n",
       "<p>1289 rows × 9 columns</p>\n",
       "</div>"
      ],
      "text/plain": [
       "           winner      length  magic_used  player_cards     round  type  \\\n",
       "user_id                                                                   \n",
       "218492   1.000000  316.333333    0.666667     36.000000  2.000000   1.0   \n",
       "218535   0.666667  193.666667    0.333333     34.666667  2.000000   1.0   \n",
       "218557   0.777778  214.888889    0.222222     31.000000  2.000000   1.0   \n",
       "218559   0.823529  254.509804    0.209150     23.189542  1.882353   1.0   \n",
       "218591   0.666667  199.000000    2.000000     34.666667  2.000000   1.0   \n",
       "...           ...         ...         ...           ...       ...   ...   \n",
       "234715   0.500000  191.000000    0.000000     26.000000  1.500000   1.0   \n",
       "234722   0.000000   56.000000    0.000000      0.000000  1.000000   1.0   \n",
       "234723   1.000000  517.000000    1.000000     52.000000  2.000000   1.0   \n",
       "234734   1.000000  211.416667    0.833333     48.333333  2.000000   1.0   \n",
       "234747   1.000000  159.000000    0.666667     40.000000  2.000000   1.0   \n",
       "\n",
       "                 diff  count_of_games  weekend  \n",
       "user_id                                         \n",
       "218492     997.666667             1.0      1.0  \n",
       "218535     686.666667             1.0      1.0  \n",
       "218557   10937.888889             4.0      1.0  \n",
       "218559   34640.254902            76.0      1.0  \n",
       "218591     747.666667             1.0      1.0  \n",
       "...               ...             ...      ...  \n",
       "234715      -1.000000             0.5      0.0  \n",
       "234722     648.000000             0.0      0.0  \n",
       "234723      -1.000000             1.0      0.0  \n",
       "234734    3495.416667             5.5      0.0  \n",
       "234747     582.333333             1.0      0.0  \n",
       "\n",
       "[1289 rows x 9 columns]"
      ]
     },
     "execution_count": 61,
     "metadata": {},
     "output_type": "execute_result"
    }
   ],
   "source": [
    "answer"
   ]
  },
  {
   "cell_type": "markdown",
   "metadata": {},
   "source": [
    "Запустим модель для предсказания на неизвестных данных"
   ]
  },
  {
   "cell_type": "code",
   "execution_count": 62,
   "metadata": {},
   "outputs": [],
   "source": [
    "result = rfc.predict(answer.to_numpy())\n",
    "pd.DataFrame({\"user_id\":answer.index,\"answer\":np.int8(result)}).to_csv(\"Answer.csv\",index=False)"
   ]
  },
  {
   "cell_type": "code",
   "execution_count": 63,
   "metadata": {},
   "outputs": [],
   "source": [
    "result = rfc.predict_proba(answer.to_numpy())\n",
    "pd.DataFrame({\"user_id\":answer.index,\"answer\":np.float16(result[:,1])}).to_csv(\"Answer_proba.csv\",index=False)"
   ]
  }
 ],
 "metadata": {
  "kernelspec": {
   "display_name": "Python 3",
   "language": "python",
   "name": "python3"
  },
  "language_info": {
   "codemirror_mode": {
    "name": "ipython",
    "version": 3
   },
   "file_extension": ".py",
   "mimetype": "text/x-python",
   "name": "python",
   "nbconvert_exporter": "python",
   "pygments_lexer": "ipython3",
   "version": "3.7.6"
  }
 },
 "nbformat": 4,
 "nbformat_minor": 4
}
